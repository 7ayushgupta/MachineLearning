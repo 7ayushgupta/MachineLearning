{
 "cells": [
  {
   "cell_type": "code",
   "execution_count": 6,
   "metadata": {},
   "outputs": [],
   "source": [
    "import os\n",
    "import sys\n",
    "if '/opt/ros/kinetic/lib/python2.7/dist-packages' in sys.path:\n",
    "    sys.path.remove('/opt/ros/kinetic/lib/python2.7/dist-packages')\n",
    "# Remove the above line, if you don't have conflicts with ROS-Python\n",
    "import numpy as np\n",
    "import cv2\n",
    "from sklearn.preprocessing import LabelEncoder\n",
    "\n",
    "# Setting up the directories for use\n",
    "# Currently using the Stanford provided annotations\n",
    "annotations_folder = '/media/ayush/DATA1/Data/stanford_campus_dataset/annotations'\n",
    "videos_folder = '/media/ayush/DATA1/Data/stanford_campus_dataset/videos'"
   ]
  },
  {
   "cell_type": "code",
   "execution_count": 7,
   "metadata": {},
   "outputs": [],
   "source": [
    "class DataHandler():\n",
    "\n",
    "    def __init__(self, dataset_dictionary):\n",
    "        '''\n",
    "        Constructor to handle initiailisation of dataset directory structures. \n",
    "        Keys are main folder names, and values are a list of subfolders included.\n",
    "        '''\n",
    "        self.data_dictionary = dataset_dictionary\n",
    "        self.data = []\n",
    "        self.all_paths = []\n",
    "        # Name of Objects\n",
    "        self.objects = np.array([b'\"Biker\"',\n",
    "                                 b'\"Bus\"',\n",
    "                                 b'\"Car\"',\n",
    "                                 b'\"Cart\"',\n",
    "                                 b'\"Pedestrian\"',\n",
    "                                 b'\"Skater\"'\n",
    "                                 ])\n",
    "        self.set_colors()\n",
    "        self.load_data()\n",
    "    \n",
    "    def set_colors(self):\n",
    "        '''\n",
    "        Assigning colors randomly to each object\n",
    "        '''\n",
    "        np.random.seed(1) # Used for randomly seeding (not here) the Mersenne Twister Pseudo Random Number Generation\n",
    "        self.colors = np.random.randint(0, 255, (3, 6), dtype=np.int32)\n",
    "        np.random.seed() # setting to a very random setting again\n",
    "    \n",
    "    def load_data(self):\n",
    "        # collect all data paths\n",
    "        for key in self.data_dictionary:\n",
    "            if self.data_dictionary[key]==[-1]:\n",
    "                folders = os.listdir(key)\n",
    "                for folder in folders:\n",
    "                    self.all_paths.append(os.path.join(key, folder))\n",
    "            else:\n",
    "                for folder in self.data_dictionary[key]:\n",
    "                    self.all_paths.append(os.path.join(key, folder))\n",
    "        # Assign a Number to each path and store it in a txt file. (later is used for visualization)\n",
    "        f = open('dataset_idx.txt','w')\n",
    "        for idx,path in enumerate(self.all_paths):\n",
    "            f.write(str(idx)+' '+path+'\\n')\n",
    "        f.close()\n",
    "        \n",
    "        # Fitting a scikit-learn encoder on the labels\n",
    "        encoder = LabelEncoder()\n",
    "        encoder.fit(self.objects)\n",
    "        \n",
    "        for idx, path in enumerate(self.all_paths):\n",
    "            complete_path = os.path.join(annotations_folder, os.path.join(path, 'annotations.txt'))\n",
    "            print(complete_path, ' is loading.')\n",
    "            raw_data = np.genfromtxt(complete_path, dtype=None )\n",
    "            temp_data = np.zeros((raw_data.size, 10),dtype=np.int32)\n",
    "            for column in range(10):\n",
    "                if column is 9:\n",
    "                    temp_data[:, column] = encoder.transform(raw_data[:]['f'+ str(column)])\n",
    "                else:\n",
    "                    temp_data[:, column] = raw_data[:]['f'+ str(column)]\n",
    "            self.data.append(temp_data)\n",
    "\n",
    "    def visualize(self, dataset_idx):\n",
    "        '''\n",
    "        :param dataset_idx: the idx of selected data for visualization\n",
    "        '''\n",
    "        path = self.all_paths[dataset_idx]\n",
    "        annotation_data = self.data[dataset_idx]\n",
    "        video_dir = os.path.join(videos_folder,os.path.join(path,'video.mov'))\n",
    "        cap = cv2.VideoCapture(video_dir)\n",
    "        frameCount = int(cap.get(cv2.CAP_PROP_FRAME_COUNT))\n",
    "        frameWidth = int(cap.get(cv2.CAP_PROP_FRAME_WIDTH))\n",
    "        frameHeight = int(cap.get(cv2.CAP_PROP_FRAME_HEIGHT))\n",
    "        print('frame width: ', frameWidth)\n",
    "        print('frame height: ',frameHeight)\n",
    "        fc = 0\n",
    "        ret = True\n",
    "\n",
    "        while ret:\n",
    "            ret, img = cap.read()\n",
    "            frame_objects = annotation_data[annotation_data[:,5]==fc,:]\n",
    "            for i in range(len(frame_objects)):\n",
    "                color = (int(self.colors[0,frame_objects[i,-1]]),int(self.colors[1,frame_objects[i,-1]]),int(self.colors[2,frame_objects[i,-1]]))\n",
    "                cv2.rectangle(img, (frame_objects[i,1], frame_objects[i,2]), (frame_objects[i,3], frame_objects[i,4]), color=color, thickness=4)\n",
    "                cv2.putText(img, str(frame_objects[i,0]), (frame_objects[i,1], frame_objects[i,2]), cv2.FONT_HERSHEY_SIMPLEX, 2, 255)\n",
    "            # Press esc to exit\n",
    "            k = cv2.waitKey(30) & 0xff\n",
    "            if k == 27:\n",
    "                break\n",
    "            fc = fc + 1\n",
    "            # frame Width and Height is divided by 2 to fit in my screen.\n",
    "            img = cv2.resize(img, (int(frameWidth/2), int(frameHeight/2)))\n",
    "            cv2.imshow('BookStore', img)\n",
    "        cap.release()\n",
    "        cv2.destroyAllWindows()\n"
   ]
  },
  {
   "cell_type": "code",
   "execution_count": 4,
   "metadata": {},
   "outputs": [
    {
     "name": "stdout",
     "output_type": "stream",
     "text": [
      "/media/ayush/DATA1/Data/stanford_campus_dataset/sdd/YOLO/common\n"
     ]
    },
    {
     "data": {
      "text/plain": [
       "'/media/ayush/DATA1/Data/stanford_campus_dataset/sdd/YOLO/common'"
      ]
     },
     "execution_count": 4,
     "metadata": {},
     "output_type": "execute_result"
    }
   ],
   "source": [
    "%cd /media/ayush/DATA1/Data/stanford_campus_dataset/sdd/YOLO/common\n",
    "%pwd\n"
   ]
  },
  {
   "cell_type": "code",
   "execution_count": null,
   "metadata": {},
   "outputs": [],
   "source": []
  }
 ],
 "metadata": {
  "kernelspec": {
   "display_name": "Python 3",
   "language": "python",
   "name": "python3"
  },
  "language_info": {
   "codemirror_mode": {
    "name": "ipython",
    "version": 3
   },
   "file_extension": ".py",
   "mimetype": "text/x-python",
   "name": "python",
   "nbconvert_exporter": "python",
   "pygments_lexer": "ipython3",
   "version": "3.5.2"
  }
 },
 "nbformat": 4,
 "nbformat_minor": 2
}
