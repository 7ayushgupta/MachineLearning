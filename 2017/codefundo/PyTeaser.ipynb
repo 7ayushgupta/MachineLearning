{
 "cells": [
  {
   "cell_type": "code",
   "execution_count": 1,
   "metadata": {},
   "outputs": [],
   "source": [
    "import pyteaser"
   ]
  },
  {
   "cell_type": "code",
   "execution_count": 10,
   "metadata": {},
   "outputs": [],
   "source": [
    "textFightClub = '''The unnamed Narrator is a traveling automobile recall specialist who suffers from insomnia. When he is unsuccessful at receiving medical assistance for it, the admonishing doctor suggests he realize his relatively small amount of suffering by visiting a support group for testicular cancer victims. The group assumes that he, too, is affected like they are, and he spontaneously weeps into the nurturing arms of another man, finding a freedom from the catharsis that relieves his insomnia. He decides to participate in support groups of various kinds, always allowing the groups to assume that he suffers what they do. However, he begins to notice another impostor, Marla Singer, whose presence reminds him that he is attending these groups dishonestly, and this disturbs his bliss. The two negotiate to avoid their attending the same groups, but, before going their separate ways, Marla gives him her phone number.\n",
    "On a flight home from a business trip, the Narrator meets Tyler Durden, a soap salesman with whom he begins to converse after noticing the two share the same kind of briefcase. After the flight, the Narrator returns home to find that his apartment has been destroyed by an explosion. With no one else to contact, he calls Tyler, and they meet at a bar. After a conversation about consumerism, outside the bar, Tyler chastises the Narrator for his timidity about needing a place to stay. Tyler requests that the Narrator hit him, which leads the two to engage in a fistfight. The Narrator moves into Tyler's home, a large dilapidated house in an industrial area of their city. They have further fights outside the bar on subsequent nights, and these fights attract growing crowds of men. The fighting eventually moves to the bar's basement where the men form a club (\"Fight Club\") which routinely meets only to provide an opportunity for the men to fight recreationally.\n",
    "Marla overdoses on pills and telephones the Narrator for help; he eventually ignores her, leaving his phone receiver without disconnecting. Tyler notices the phone soon after, talks to her and goes to her apartment to save her. Tyler and Marla become sexually involved. He warns the Narrator never to talk to Marla about him. More fight clubs form across the country and, under Tyler's leadership (and without the Narrator's knowledge), they become an anti-materialist and anti-corporate organization, Project Mayhem, with many of the former local Fight Club members moving into the dilapidated house and improving it.\n",
    "The Narrator complains to Tyler about Tyler excluding him from the newer manifestation of the Fight Club organization Project Mayhem. Soon after, Tyler leaves the house without notice. When a member of Project Mayhem is killed by the police during a botched sabotage operation, the Narrator tries to shut down the project. Seeking Tyler, he follows evidence of Tyler's national travels. In one city, a Project Mayhem member greets the Narrator as Tyler Durden. The Narrator calls Marla from his hotel room and discovers that Marla also believes him to be Tyler. Tyler suddenly appears in his hotel room, and reveals that they are dissociated personalities in the same body. When the Narrator has believed himself to be asleep, Tyler has been controlling his body and traveling to different locations.\n",
    "The Narrator blacks out after the conversation, and when he awakes, he uncovers Tyler's plans to erase debt by destroying buildings that contain credit card companies' records. The Narrator tries to warn the police, but he finds that these officers are members of the Project. He attempts to disarm the explosives in a building, but Tyler subdues him and moves him to the uppermost floor. Held at gunpoint by Tyler, the Narrator realizes that, in sharing the same body with Tyler, he himself is actually in control holding \"Tyler's\" gun. The Narrator fires it into his own mouth, shooting through the cheek without killing himself. Tyler collapses with an exit wound to the back of his head, and the Narrator stops mentally projecting him. Afterward, Project Mayhem members bring a kidnapped Marla to him, believing him to be Tyler, and leave them alone. Holding hands, the Narrator and Marla watch as the explosives detonate, collapsing many buildings around them.'''"
   ]
  },
  {
   "cell_type": "code",
   "execution_count": 11,
   "metadata": {},
   "outputs": [
    {
     "name": "stdout",
     "output_type": "stream",
     "text": [
      "The fighting eventually moves to the bar's basement where the men form a club (\"Fight Club\") which routinely meets only to provide an opportunity for the men to fight recreationally.\n",
      "The Narrator complains to Tyler about Tyler excluding him from the newer manifestation of the Fight Club organization Project Mayhem.\n",
      "More fight clubs form across the country and, under Tyler's leadership (and without the Narrator's knowledge), they become an anti-materialist and anti-corporate organization, Project Mayhem, with many of the former local Fight Club members moving into the dilapidated house and improving it.\n",
      "After a conversation about consumerism, outside the bar, Tyler chastises the Narrator for his timidity about needing a place to stay.\n",
      "Afterward, Project Mayhem members bring a kidnapped Marla to him, believing him to be Tyler, and leave them alone.\n"
     ]
    }
   ],
   "source": [
    "titleFightClub = '''Summary of Fight Club'''\n",
    "summaryFightClub = pyteaser.Summarize(titleFightClub, textFightClub)\n",
    "for sent in summaryFightClub:\n",
    "    print(sent)"
   ]
  },
  {
   "cell_type": "code",
   "execution_count": 12,
   "metadata": {},
   "outputs": [
    {
     "name": "stdout",
     "output_type": "stream",
     "text": [
      "The next day, at a press conference, Stark defies suggestions from S.H.I.E.L.D. and publicly admits to being the superhero the press has dubbed \"Iron Man\".\n",
      "Obadiah Stane, his father's old partner and the company's manager, advises Stark that this may ruin Stark Industries and his father's legacy.\n",
      "\n",
      "In a post-credits scene, S.H.I.E.L.D. Director Nick Fury visits Stark at home, telling him that Iron Man is not \"the only superhero in the world\", and explaining that he wants to discuss the \"Avenger Initiative\".\n",
      "The fight carries Stark and Stane to the top of the Stark Industries building, and Stark instructs Potts to overload the large arc reactor powering the building.\n",
      "This unleashes a massive electrical surge that causes Stane and his armor to fall into the exploding reactor, killing him.\n"
     ]
    }
   ],
   "source": [
    "textIronMan = '''Genius, billionaire, and playboy Tony Stark, who has inherited the defense contractor Stark Industries from his father, is in war-torn Afghanistan with his friend and military liaison Lieutenant Colonel James Rhodes to demonstrate the new \"Jericho\" missile. After the demonstration, the convoy is ambushed and Stark is critically wounded by one of his own company's rocket-propelled grenades. He is captured and imprisoned in a cave by a terrorist group, the Ten Rings; Yinsen, a fellow captive who is a doctor, implants an electromagnet into Stark's chest to keep the shrapnel shards that wounded him from reaching his heart and killing him. Ten Rings leader Raza offers Stark freedom in exchange for building a Jericho missile for the group, but Tony and Yinsen know that Raza will not keep his word.\n",
    "Stark and Yinsen secretly and quietly build a small, powerful electric generator called an arc reactor to power Stark's electromagnet and a suit of powered armor to aid in their escape. Although they keep the suit hidden almost to completion, the Ten Rings discover their hostages' intentions and attack the workshop. Yinsen sacrifices himself to divert them while the suit is completed. The armored Stark battles his way out of the cave to find the dying Yinsen, then burns the Ten Rings' weapons in anger and flies away, crashing in the desert and destroying the suit by accident. After being rescued by Rhodes, Stark returns home and announces that his company will no longer manufacture weapons. Obadiah Stane, his father's old partner and the company's manager, advises Stark that this may ruin Stark Industries and his father's legacy. In his home workshop, Stark builds a sleeker, more powerful version of his improvised armor suit as well as a more powerful arc reactor for his chest. Personal assistant Pepper Potts places the original reactor inside a small glass showcase. Though Stane requests details, Stark keeps his work to himself because he is suspicious of his company.\n",
    "At a charity event held by Stark Industries, reporter Christine Everhart informs Stark that his company's weapons, including the Jericho, were recently delivered to the Ten Rings and are being used to attack Yinsen's home village, Gulmira. Stark then learns that Stane has been arms trafficking to criminals worldwide, and is staging a coup to replace him as Stark Industries' CEO. Stark dons his new armor and flies to Afghanistan, where he saves the villagers. While flying home, Stark is shot at by two F-22 Raptor fighter jets. He reveals his secret identity to Rhodes over the phone in an attempt to end the attack. Meanwhile, the Ten Rings gather the pieces of Stark's prototype suit and meet with Stane, who subdues Raza and has the rest of the group killed. Stane has a massive new suit reverse engineered from the wreckage. Seeking to track his company's illegal shipments, Stark sends Pepper to hack into its database. She discovers Stane hired the Ten Rings to kill Stark, but the group reneged. Potts meets with Agent Phil Coulson of S.H.I.E.L.D., an intelligence agency, to inform him of Stane's activities.\n",
    "Stane's scientists cannot duplicate Stark's miniaturized arc reactor, so Stane ambushes Stark at his home and takes the one from his chest. Stark manages to get to his original reactor to replace it. Potts and several S.H.I.E.L.D. agents attempt to arrest Stane, but he dons his suit and attacks them. Stark fights Stane, but is outmatched without his new reactor to run his suit at full capacity. The fight carries Stark and Stane to the top of the Stark Industries building, and Stark instructs Potts to overload the large arc reactor powering the building. This unleashes a massive electrical surge that causes Stane and his armor to fall into the exploding reactor, killing him. The next day, at a press conference, Stark defies suggestions from S.H.I.E.L.D. and publicly admits to being the superhero the press has dubbed \"Iron Man\".\n",
    "In a post-credits scene, S.H.I.E.L.D. Director Nick Fury visits Stark at home, telling him that Iron Man is not \"the only superhero in the world\", and explaining that he wants to discuss the \"Avenger Initiative\".'''\n",
    "titleIronMan = '''Summary of Iron Man'''\n",
    "summaryIronMan = pyteaser.Summarize(titleIronMan, textIronMan)\n",
    "for sent in summaryIronMan:\n",
    "    print(sent)"
   ]
  },
  {
   "cell_type": "code",
   "execution_count": 21,
   "metadata": {},
   "outputs": [
    {
     "ename": "UnicodeDecodeError",
     "evalue": "'ascii' codec can't decode byte 0xe2 in position 14: ordinal not in range(128)",
     "output_type": "error",
     "traceback": [
      "\u001b[0;31m---------------------------------------------------------------------------\u001b[0m",
      "\u001b[0;31mUnicodeDecodeError\u001b[0m                        Traceback (most recent call last)",
      "\u001b[0;32m<ipython-input-21-c90c93974ff9>\u001b[0m in \u001b[0;36m<module>\u001b[0;34m()\u001b[0m\n\u001b[1;32m     19\u001b[0m \u001b[0;34m\u001b[0m\u001b[0m\n\u001b[1;32m     20\u001b[0m If Kohli and coach Ravi Shastri’s ability to keep the players primed despite the Test losses was one obvious positive feature, the other was a negative one that the Indian team urgently needs to set right.'''\n\u001b[0;32m---> 21\u001b[0;31m \u001b[0msummaryCricket\u001b[0m \u001b[0;34m=\u001b[0m \u001b[0mpyteaser\u001b[0m\u001b[0;34m.\u001b[0m\u001b[0mSummarize\u001b[0m\u001b[0;34m(\u001b[0m\u001b[0mtitleCricket\u001b[0m\u001b[0;34m,\u001b[0m \u001b[0mtextCricket\u001b[0m\u001b[0;34m)\u001b[0m\u001b[0;34m\u001b[0m\u001b[0m\n\u001b[0m\u001b[1;32m     22\u001b[0m \u001b[0;32mfor\u001b[0m \u001b[0msent\u001b[0m \u001b[0;32min\u001b[0m \u001b[0msummaryCricket\u001b[0m\u001b[0;34m:\u001b[0m\u001b[0;34m\u001b[0m\u001b[0m\n\u001b[1;32m     23\u001b[0m     \u001b[0;32mprint\u001b[0m\u001b[0;34m(\u001b[0m\u001b[0msent\u001b[0m\u001b[0;34m)\u001b[0m\u001b[0;34m\u001b[0m\u001b[0m\n",
      "\u001b[0;32m/home/ayush/anaconda3/envs/EnvPython2/lib/python2.7/site-packages/pyteaser.pyc\u001b[0m in \u001b[0;36mSummarize\u001b[0;34m(title, text)\u001b[0m\n\u001b[1;32m     83\u001b[0m \u001b[0;32mdef\u001b[0m \u001b[0mSummarize\u001b[0m\u001b[0;34m(\u001b[0m\u001b[0mtitle\u001b[0m\u001b[0;34m,\u001b[0m \u001b[0mtext\u001b[0m\u001b[0;34m)\u001b[0m\u001b[0;34m:\u001b[0m\u001b[0;34m\u001b[0m\u001b[0m\n\u001b[1;32m     84\u001b[0m     \u001b[0msummaries\u001b[0m \u001b[0;34m=\u001b[0m \u001b[0;34m[\u001b[0m\u001b[0;34m]\u001b[0m\u001b[0;34m\u001b[0m\u001b[0m\n\u001b[0;32m---> 85\u001b[0;31m     \u001b[0msentences\u001b[0m \u001b[0;34m=\u001b[0m \u001b[0msplit_sentences\u001b[0m\u001b[0;34m(\u001b[0m\u001b[0mtext\u001b[0m\u001b[0;34m)\u001b[0m\u001b[0;34m\u001b[0m\u001b[0m\n\u001b[0m\u001b[1;32m     86\u001b[0m     \u001b[0mkeys\u001b[0m \u001b[0;34m=\u001b[0m \u001b[0mkeywords\u001b[0m\u001b[0;34m(\u001b[0m\u001b[0mtext\u001b[0m\u001b[0;34m)\u001b[0m\u001b[0;34m\u001b[0m\u001b[0m\n\u001b[1;32m     87\u001b[0m     \u001b[0mtitleWords\u001b[0m \u001b[0;34m=\u001b[0m \u001b[0msplit_words\u001b[0m\u001b[0;34m(\u001b[0m\u001b[0mtitle\u001b[0m\u001b[0;34m)\u001b[0m\u001b[0;34m\u001b[0m\u001b[0m\n",
      "\u001b[0;32m/home/ayush/anaconda3/envs/EnvPython2/lib/python2.7/site-packages/pyteaser.pyc\u001b[0m in \u001b[0;36msplit_sentences\u001b[0;34m(text)\u001b[0m\n\u001b[1;32m    207\u001b[0m     \u001b[0msentences\u001b[0m \u001b[0;34m=\u001b[0m \u001b[0mregex_split\u001b[0m\u001b[0;34m(\u001b[0m\u001b[0;34mu'(?<![A-ZА-ЯЁ])([.!?]\"?)(?=\\s+\\\"?[A-ZА-ЯЁ])'\u001b[0m\u001b[0;34m,\u001b[0m \u001b[0mtext\u001b[0m\u001b[0;34m,\u001b[0m \u001b[0mflags\u001b[0m\u001b[0;34m=\u001b[0m\u001b[0mREGEX_UNICODE\u001b[0m\u001b[0;34m)\u001b[0m\u001b[0;34m\u001b[0m\u001b[0m\n\u001b[1;32m    208\u001b[0m     \u001b[0ms_iter\u001b[0m \u001b[0;34m=\u001b[0m \u001b[0mzip\u001b[0m\u001b[0;34m(\u001b[0m\u001b[0;34m*\u001b[0m\u001b[0;34m[\u001b[0m\u001b[0miter\u001b[0m\u001b[0;34m(\u001b[0m\u001b[0msentences\u001b[0m\u001b[0;34m[\u001b[0m\u001b[0;34m:\u001b[0m\u001b[0;34m-\u001b[0m\u001b[0;36m1\u001b[0m\u001b[0;34m]\u001b[0m\u001b[0;34m)\u001b[0m\u001b[0;34m]\u001b[0m \u001b[0;34m*\u001b[0m \u001b[0;36m2\u001b[0m\u001b[0;34m)\u001b[0m\u001b[0;34m\u001b[0m\u001b[0m\n\u001b[0;32m--> 209\u001b[0;31m     \u001b[0ms_iter\u001b[0m \u001b[0;34m=\u001b[0m \u001b[0;34m[\u001b[0m\u001b[0;34m''\u001b[0m\u001b[0;34m.\u001b[0m\u001b[0mjoin\u001b[0m\u001b[0;34m(\u001b[0m\u001b[0mmap\u001b[0m\u001b[0;34m(\u001b[0m\u001b[0municode\u001b[0m\u001b[0;34m,\u001b[0m\u001b[0my\u001b[0m\u001b[0;34m)\u001b[0m\u001b[0;34m)\u001b[0m\u001b[0;34m.\u001b[0m\u001b[0mlstrip\u001b[0m\u001b[0;34m(\u001b[0m\u001b[0;34m)\u001b[0m \u001b[0;32mfor\u001b[0m \u001b[0my\u001b[0m \u001b[0;32min\u001b[0m \u001b[0ms_iter\u001b[0m\u001b[0;34m]\u001b[0m\u001b[0;34m\u001b[0m\u001b[0m\n\u001b[0m\u001b[1;32m    210\u001b[0m     \u001b[0ms_iter\u001b[0m\u001b[0;34m.\u001b[0m\u001b[0mappend\u001b[0m\u001b[0;34m(\u001b[0m\u001b[0msentences\u001b[0m\u001b[0;34m[\u001b[0m\u001b[0;34m-\u001b[0m\u001b[0;36m1\u001b[0m\u001b[0;34m]\u001b[0m\u001b[0;34m)\u001b[0m\u001b[0;34m\u001b[0m\u001b[0m\n\u001b[1;32m    211\u001b[0m     \u001b[0;32mreturn\u001b[0m \u001b[0ms_iter\u001b[0m\u001b[0;34m\u001b[0m\u001b[0m\n",
      "\u001b[0;31mUnicodeDecodeError\u001b[0m: 'ascii' codec can't decode byte 0xe2 in position 14: ordinal not in range(128)"
     ]
    }
   ],
   "source": [
    "titleCricket = '''India vs South Africa: Virat Kohli's aggressive captaincy stands out but slip-catching remains a cause of concern'''\n",
    "textCricket = '''The harrowing defeats at the start of a challenging tour could have dispirited and disintegrated the team and none would have held it against them. But the recovery and comeback was the stuff of legends. The captain, coach and others responsible for boosting the morale of the team and keeping the flock together must be wholeheartedly appreciated for it. It was only that positive surge that helped the team bounce back.\n",
    "The history of cricket tours has shown that it is no ordinary feat to take two successive defeats on the chin and move on, especially in a foreign country when so many things, from pitch, weather, people, culture, food, etc. would be alien.\n",
    "Teams have been known to completely fall apart after a heavy loss in the initial stages of the tour to the extent that the rest of the tour becomes a chore, team spirit is ripped apart, players rancour and fight among themselves, leak out stories of discord and each tries to ensure that he plays to keep his place, rather than for the good of the team.\n",
    "In countries like Australia, the local media too is known to play its part in taunting, provoking and driving fissures in the opponents.\n",
    "It is in this context that skipper Virat Kohli's ability to maintain team spirit and coax the best out of his players on foreign shores must be applauded as one of the finest ever effort by an Indian skipper. He kept the team pumped-up even as external factors, like unexpected rain in drought-hit regions, impacted his team at most inopportune moments.\n",
    "Of course, as is his wont, he led from the front, with the brilliant 153 in the second Test being one of the most impressive statements of defiance, coming as it did after the first Test loss.\n",
    "There were other terrific performances, but none more impressive for grit and defiance than Bhuvneshwar Kumar's.\n",
    "Kumar bowled well in the two Tests he played, bagging 10 wickets in all. But it was his defiant batting that echoed the never-say-die spirit of his skipper. He made 25 in a 99-run eighth-wicket partnership with Hardik Pandya when India were tottering at 92 for 7 in the first innings of the first Test. In the second innings, he made an unbeaten 13 in a 49-run stand with Ravichandran Ashwin to show that he was not going to be the one to throw it away.\n",
    "He did better in the third Test. His 30 in a total of 187 was invaluable in the overall result. The tailender’s 33 in the second innings was just as priceless, especially as the South African fast bowlers were making the ball fly around disconcertingly. Kumar was the star of the tour, in Tests, ODIs and T20Is.\n",
    "If Kohli and coach Ravi Shastri’s ability to keep the players primed despite the Test losses was one obvious positive feature, the other was a negative one that the Indian team urgently needs to set right.'''\n",
    "summaryCricket = pyteaser.Summarize(titleCricket, textCricket)\n",
    "for sent in summaryCricket:\n",
    "    print(sent)"
   ]
  }
 ],
 "metadata": {
  "kernelspec": {
   "display_name": "Python 2",
   "language": "python",
   "name": "python2"
  },
  "language_info": {
   "codemirror_mode": {
    "name": "ipython",
    "version": 2
   },
   "file_extension": ".py",
   "mimetype": "text/x-python",
   "name": "python",
   "nbconvert_exporter": "python",
   "pygments_lexer": "ipython2",
   "version": "2.7.14"
  }
 },
 "nbformat": 4,
 "nbformat_minor": 2
}
